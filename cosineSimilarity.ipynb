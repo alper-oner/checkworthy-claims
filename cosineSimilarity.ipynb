{
  "nbformat": 4,
  "nbformat_minor": 0,
  "metadata": {
    "colab": {
      "name": "similarity.ipynb",
      "version": "0.3.2",
      "provenance": [],
      "collapsed_sections": [],
      "include_colab_link": true
    },
    "kernelspec": {
      "name": "python3",
      "display_name": "Python 3"
    }
  },
  "cells": [
    {
      "cell_type": "markdown",
      "metadata": {
        "id": "view-in-github",
        "colab_type": "text"
      },
      "source": [
        "<a href=\"https://colab.research.google.com/github/alper-oner/checkworthy-claims/blob/master/cosineSimilarity.ipynb\" target=\"_parent\"><img src=\"https://colab.research.google.com/assets/colab-badge.svg\" alt=\"Open In Colab\"/></a>"
      ]
    },
    {
      "cell_type": "code",
      "metadata": {
        "id": "-9sPQTmz2aS_",
        "colab_type": "code",
        "colab": {
          "base_uri": "https://localhost:8080/",
          "height": 927
        },
        "outputId": "8434fd96-af12-47f1-ca30-b3ccfcec16a9"
      },
      "source": [
        "!pip install flair"
      ],
      "execution_count": 19,
      "outputs": [
        {
          "output_type": "stream",
          "text": [
            "Requirement already satisfied: flair in /usr/local/lib/python3.6/dist-packages (0.4.2)\n",
            "Requirement already satisfied: sklearn in /usr/local/lib/python3.6/dist-packages (from flair) (0.0)\n",
            "Requirement already satisfied: hyperopt>=0.1.1 in /usr/local/lib/python3.6/dist-packages (from flair) (0.1.2)\n",
            "Requirement already satisfied: deprecated>=1.2.4 in /usr/local/lib/python3.6/dist-packages (from flair) (1.2.6)\n",
            "Requirement already satisfied: segtok>=1.5.7 in /usr/local/lib/python3.6/dist-packages (from flair) (1.5.7)\n",
            "Requirement already satisfied: urllib3<1.25,>=1.20 in /usr/local/lib/python3.6/dist-packages (from flair) (1.24.3)\n",
            "Requirement already satisfied: pytest>=3.6.4 in /usr/local/lib/python3.6/dist-packages (from flair) (3.6.4)\n",
            "Requirement already satisfied: torch>=1.0.0 in /usr/local/lib/python3.6/dist-packages (from flair) (1.1.0)\n",
            "Requirement already satisfied: gensim>=3.4.0 in /usr/local/lib/python3.6/dist-packages (from flair) (3.6.0)\n",
            "Requirement already satisfied: mpld3==0.3 in /usr/local/lib/python3.6/dist-packages (from flair) (0.3)\n",
            "Requirement already satisfied: sqlitedict>=1.6.0 in /usr/local/lib/python3.6/dist-packages (from flair) (1.6.0)\n",
            "Requirement already satisfied: pytorch-pretrained-bert>=0.6.1 in /usr/local/lib/python3.6/dist-packages (from flair) (0.6.2)\n",
            "Requirement already satisfied: regex in /usr/local/lib/python3.6/dist-packages (from flair) (2019.6.8)\n",
            "Requirement already satisfied: matplotlib>=2.2.3 in /usr/local/lib/python3.6/dist-packages (from flair) (3.0.3)\n",
            "Requirement already satisfied: tabulate in /usr/local/lib/python3.6/dist-packages (from flair) (0.8.3)\n",
            "Requirement already satisfied: tqdm>=4.26.0 in /usr/local/lib/python3.6/dist-packages (from flair) (4.28.1)\n",
            "Requirement already satisfied: bpemb>=0.2.9 in /usr/local/lib/python3.6/dist-packages (from flair) (0.3.0)\n",
            "Requirement already satisfied: scikit-learn in /usr/local/lib/python3.6/dist-packages (from sklearn->flair) (0.21.2)\n",
            "Requirement already satisfied: networkx in /usr/local/lib/python3.6/dist-packages (from hyperopt>=0.1.1->flair) (2.3)\n",
            "Requirement already satisfied: scipy in /usr/local/lib/python3.6/dist-packages (from hyperopt>=0.1.1->flair) (1.3.0)\n",
            "Requirement already satisfied: six in /usr/local/lib/python3.6/dist-packages (from hyperopt>=0.1.1->flair) (1.12.0)\n",
            "Requirement already satisfied: numpy in /usr/local/lib/python3.6/dist-packages (from hyperopt>=0.1.1->flair) (1.16.4)\n",
            "Requirement already satisfied: pymongo in /usr/local/lib/python3.6/dist-packages (from hyperopt>=0.1.1->flair) (3.8.0)\n",
            "Requirement already satisfied: future in /usr/local/lib/python3.6/dist-packages (from hyperopt>=0.1.1->flair) (0.16.0)\n",
            "Requirement already satisfied: wrapt<2,>=1.10 in /usr/local/lib/python3.6/dist-packages (from deprecated>=1.2.4->flair) (1.11.2)\n",
            "Requirement already satisfied: more-itertools>=4.0.0 in /usr/local/lib/python3.6/dist-packages (from pytest>=3.6.4->flair) (7.1.0)\n",
            "Requirement already satisfied: atomicwrites>=1.0 in /usr/local/lib/python3.6/dist-packages (from pytest>=3.6.4->flair) (1.3.0)\n",
            "Requirement already satisfied: pluggy<0.8,>=0.5 in /usr/local/lib/python3.6/dist-packages (from pytest>=3.6.4->flair) (0.7.1)\n",
            "Requirement already satisfied: setuptools in /usr/local/lib/python3.6/dist-packages (from pytest>=3.6.4->flair) (41.0.1)\n",
            "Requirement already satisfied: attrs>=17.4.0 in /usr/local/lib/python3.6/dist-packages (from pytest>=3.6.4->flair) (19.1.0)\n",
            "Requirement already satisfied: py>=1.5.0 in /usr/local/lib/python3.6/dist-packages (from pytest>=3.6.4->flair) (1.8.0)\n",
            "Requirement already satisfied: smart-open>=1.2.1 in /usr/local/lib/python3.6/dist-packages (from gensim>=3.4.0->flair) (1.8.4)\n",
            "Requirement already satisfied: boto3 in /usr/local/lib/python3.6/dist-packages (from pytorch-pretrained-bert>=0.6.1->flair) (1.9.185)\n",
            "Requirement already satisfied: requests in /usr/local/lib/python3.6/dist-packages (from pytorch-pretrained-bert>=0.6.1->flair) (2.21.0)\n",
            "Requirement already satisfied: kiwisolver>=1.0.1 in /usr/local/lib/python3.6/dist-packages (from matplotlib>=2.2.3->flair) (1.1.0)\n",
            "Requirement already satisfied: pyparsing!=2.0.4,!=2.1.2,!=2.1.6,>=2.0.1 in /usr/local/lib/python3.6/dist-packages (from matplotlib>=2.2.3->flair) (2.4.0)\n",
            "Requirement already satisfied: python-dateutil>=2.1 in /usr/local/lib/python3.6/dist-packages (from matplotlib>=2.2.3->flair) (2.5.3)\n",
            "Requirement already satisfied: cycler>=0.10 in /usr/local/lib/python3.6/dist-packages (from matplotlib>=2.2.3->flair) (0.10.0)\n",
            "Requirement already satisfied: sentencepiece in /usr/local/lib/python3.6/dist-packages (from bpemb>=0.2.9->flair) (0.1.82)\n",
            "Requirement already satisfied: joblib>=0.11 in /usr/local/lib/python3.6/dist-packages (from scikit-learn->sklearn->flair) (0.13.2)\n",
            "Requirement already satisfied: decorator>=4.3.0 in /usr/local/lib/python3.6/dist-packages (from networkx->hyperopt>=0.1.1->flair) (4.4.0)\n",
            "Requirement already satisfied: boto>=2.32 in /usr/local/lib/python3.6/dist-packages (from smart-open>=1.2.1->gensim>=3.4.0->flair) (2.49.0)\n",
            "Requirement already satisfied: botocore<1.13.0,>=1.12.185 in /usr/local/lib/python3.6/dist-packages (from boto3->pytorch-pretrained-bert>=0.6.1->flair) (1.12.185)\n",
            "Requirement already satisfied: s3transfer<0.3.0,>=0.2.0 in /usr/local/lib/python3.6/dist-packages (from boto3->pytorch-pretrained-bert>=0.6.1->flair) (0.2.1)\n",
            "Requirement already satisfied: jmespath<1.0.0,>=0.7.1 in /usr/local/lib/python3.6/dist-packages (from boto3->pytorch-pretrained-bert>=0.6.1->flair) (0.9.4)\n",
            "Requirement already satisfied: idna<2.9,>=2.5 in /usr/local/lib/python3.6/dist-packages (from requests->pytorch-pretrained-bert>=0.6.1->flair) (2.8)\n",
            "Requirement already satisfied: chardet<3.1.0,>=3.0.2 in /usr/local/lib/python3.6/dist-packages (from requests->pytorch-pretrained-bert>=0.6.1->flair) (3.0.4)\n",
            "Requirement already satisfied: certifi>=2017.4.17 in /usr/local/lib/python3.6/dist-packages (from requests->pytorch-pretrained-bert>=0.6.1->flair) (2019.6.16)\n",
            "Requirement already satisfied: docutils>=0.10 in /usr/local/lib/python3.6/dist-packages (from botocore<1.13.0,>=1.12.185->boto3->pytorch-pretrained-bert>=0.6.1->flair) (0.14)\n"
          ],
          "name": "stdout"
        }
      ]
    },
    {
      "cell_type": "code",
      "metadata": {
        "id": "uvy-fwfifu15",
        "colab_type": "code",
        "colab": {
          "base_uri": "https://localhost:8080/",
          "height": 90
        },
        "outputId": "c623dda3-7f4f-464b-f898-4ea3f66df2ec"
      },
      "source": [
        "!pip install nltk\n",
        "import nltk\n",
        "import re\n",
        "import pandas as pd\n",
        "import io\n",
        "nltk.download('stopwords')\n",
        "WPT = nltk.WordPunctTokenizer()\n",
        "stop_word_list = nltk.corpus.stopwords.words('turkish')\n",
        "\n",
        "def norm_tweet(tweet):\n",
        "    tweet=tweet.replace(\"İ\",\"i\")\n",
        "    tweet=tweet.replace(\"Ö\",\"ö\")\n",
        "    tweet=tweet.replace(\"@\",\"\")\n",
        "    tweet=tweet.replace(\"'\", \"\")\n",
        "    tweet=tweet.replace(\"’\", \"\")\n",
        "    tweet=tweet.replace('\"', \"\")\n",
        "    tweet=tweet.replace(\"#\",\"\")\n",
        "    tweet=tweet.replace(\",\",\"\")\n",
        "    tweet=tweet.replace(\".\",\"\")\n",
        "    tweet=tweet.replace(\"!\",\"\")\n",
        "    tweet=tweet.replace(\";\",\"\")\n",
        "    tweet=tweet.replace(\":\",\"\")\n",
        "    tweet=tweet.replace(\"/\",\"\")\n",
        "    tweet=tweet.replace(\"“\",\"\")\n",
        "    tweet=tweet.replace(\"”\",\"\")\n",
        "    tweet=tweet.replace(\"?\",\"\")\n",
        "    tweet=tweet.replace(\"-\",\"\")\n",
        "\n",
        "    pattern = r\"[{}]\".format(\",.;@#!\") \n",
        "    tweet = re.sub(pattern, \"\", str(tweet))\n",
        "    tweet = tweet.lower()\n",
        "    tweet = tweet.strip()\n",
        "    tokens = WPT.tokenize(tweet)\n",
        "    filtered_tokens = [token for token in tokens if token not in stop_word_list]\n",
        "    tweet = ' '.join(filtered_tokens)\n",
        "    return tweet"
      ],
      "execution_count": 20,
      "outputs": [
        {
          "output_type": "stream",
          "text": [
            "Requirement already satisfied: nltk in /usr/local/lib/python3.6/dist-packages (3.2.5)\n",
            "Requirement already satisfied: six in /usr/local/lib/python3.6/dist-packages (from nltk) (1.12.0)\n",
            "[nltk_data] Downloading package stopwords to /root/nltk_data...\n",
            "[nltk_data]   Package stopwords is already up-to-date!\n"
          ],
          "name": "stdout"
        }
      ]
    },
    {
      "cell_type": "code",
      "metadata": {
        "id": "hWmYnjut0lw4",
        "colab_type": "code",
        "colab": {}
      },
      "source": [
        "import urllib.request, json \n",
        "import ssl\n",
        "\n",
        "\n",
        "context = ssl._create_unverified_context()\n",
        "\n",
        "with urllib.request.urlopen(\"https://api.myjson.com/bins/1bgkqj\",context=context) as url:\n",
        "    dataClaim = json.loads(url.read().decode())\n",
        "\n",
        "claimList=[]\n",
        "for claim in dataClaim[\"claims\"]:\n",
        "    #print(claim[\"text\"])\n",
        "    claimList.append(claim[\"text\"])\n",
        "\n",
        "    "
      ],
      "execution_count": 0,
      "outputs": []
    },
    {
      "cell_type": "code",
      "metadata": {
        "id": "xKQp548Z4Qrx",
        "colab_type": "code",
        "colab": {}
      },
      "source": [
        "import urllib.request, json \n",
        "import ssl\n",
        "\n",
        "context = ssl._create_unverified_context()\n",
        "\n",
        "# test_balanced : https://api.myjson.com/bins/qnijh\n",
        "# test_unbalanced : https://api.myjson.com/bins/7da99\n",
        "with urllib.request.urlopen(\"https://api.myjson.com/bins/7da99\",context=context) as url:\n",
        "    dataTweet = json.loads(url.read().decode())\n",
        "\n",
        "tweetList=[]\n",
        "for tweet in dataTweet:\n",
        "    #print(tweet[\"tweet\"])\n",
        "    tweetList.append(tweet[\"tweet\"])\n"
      ],
      "execution_count": 0,
      "outputs": []
    },
    {
      "cell_type": "code",
      "metadata": {
        "id": "jGXkVFBzExtX",
        "colab_type": "code",
        "colab": {
          "base_uri": "https://localhost:8080/",
          "height": 73
        },
        "outputId": "9183b09f-2cf7-4936-ee77-5dcc6d7359d8"
      },
      "source": [
        "from flair.embeddings import WordEmbeddings, FlairEmbeddings, DocumentPoolEmbeddings, Sentence, CharacterEmbeddings\n",
        "\n",
        "# initialize the word embeddings\n",
        "tr_embedding = WordEmbeddings('tr')\n",
        "char_embedding = CharacterEmbeddings()\n",
        "\n",
        "# initialize the document embeddings, mode = mean\n",
        "document_embeddings = DocumentPoolEmbeddings([tr_embedding,char_embedding])\n",
        "claimTensors=[]\n",
        "\n",
        "for claim in claimList:\n",
        "    #print(norm_tweet(claim))\n",
        "    sentence = Sentence(norm_tweet(claim))\n",
        "    document_embeddings.embed(sentence)\n",
        "    claimTensors.append(sentence.get_embedding().data)  \n"
      ],
      "execution_count": 23,
      "outputs": [
        {
          "output_type": "stream",
          "text": [
            "/usr/local/lib/python3.6/dist-packages/smart_open/smart_open_lib.py:398: UserWarning: This function is deprecated, use smart_open.open instead. See the migration notes for details: https://github.com/RaRe-Technologies/smart_open/blob/master/README.rst#migrating-to-the-new-open-function\n",
            "  'See the migration notes for details: %s' % _MIGRATION_NOTES_URL\n"
          ],
          "name": "stderr"
        }
      ]
    },
    {
      "cell_type": "code",
      "metadata": {
        "id": "LZ2B7gPO7hHC",
        "colab_type": "code",
        "colab": {}
      },
      "source": [
        "from flair.embeddings import WordEmbeddings, FlairEmbeddings, DocumentPoolEmbeddings, Sentence, CharacterEmbeddings\n",
        "\n",
        "tweetTensors=[]\n",
        "for tweet in tweetList:\n",
        "    #print(norm_tweet(tweet))\n",
        "    sentence = Sentence(norm_tweet(tweet))\n",
        "    document_embeddings.embed(sentence)\n",
        "    tweetTensors.append(sentence.get_embedding().data)"
      ],
      "execution_count": 0,
      "outputs": []
    },
    {
      "cell_type": "code",
      "metadata": {
        "id": "TTWH_8W49nJE",
        "colab_type": "code",
        "colab": {}
      },
      "source": [
        "from scipy import spatial\n",
        "check_worthy_tweet=[]\n",
        "for tweeetIndex in range(len(tweetTensors)):\n",
        "  for claimIndex in range(len(claimTensors)):\n",
        "    result = 1 - spatial.distance.cosine(tweetTensors[tweeetIndex],claimTensors[claimIndex])\n",
        "    if result > 0.80:\n",
        "      if tweetList[tweeetIndex] not in check_worthy_tweet:\n",
        "        check_worthy_tweet.append(tweetList[tweeetIndex])\n"
      ],
      "execution_count": 0,
      "outputs": []
    },
    {
      "cell_type": "code",
      "metadata": {
        "id": "LxOCDWSmCJzS",
        "colab_type": "code",
        "colab": {
          "base_uri": "https://localhost:8080/",
          "height": 271
        },
        "outputId": "f768da62-6b92-4744-ab09-e90bed235f8e"
      },
      "source": [
        "from sklearn.metrics import confusion_matrix \n",
        "from sklearn.metrics import accuracy_score \n",
        "from sklearn.metrics import classification_report \n",
        "\n",
        "\n",
        "actual = []\n",
        "predicted = []\n",
        "\n",
        "for tweet in dataTweet:\n",
        "    if tweet[\"has_checkworthy_claim\"] == 1:\n",
        "      actual.append(1)\n",
        "    else:\n",
        "      actual.append(0)\n",
        "      \n",
        "for tweet in dataTweet:\n",
        "    if tweet[\"tweet\"] in check_worthy_tweet:\n",
        "      predicted.append(1)\n",
        "    else:\n",
        "      predicted.append(0)\n",
        "\n",
        "\n",
        "results = confusion_matrix(actual, predicted) \n",
        "print ('Confusion Matrix :')\n",
        "print(results) \n",
        "print ('Accuracy Score :',accuracy_score(actual, predicted) )\n",
        "print ('Report : ')\n",
        "print (classification_report(actual, predicted))"
      ],
      "execution_count": 26,
      "outputs": [
        {
          "output_type": "stream",
          "text": [
            "Confusion Matrix :\n",
            "[[131  34]\n",
            " [ 20  16]]\n",
            "Accuracy Score : 0.7313432835820896\n",
            "Report : \n",
            "              precision    recall  f1-score   support\n",
            "\n",
            "           0       0.87      0.79      0.83       165\n",
            "           1       0.32      0.44      0.37        36\n",
            "\n",
            "    accuracy                           0.73       201\n",
            "   macro avg       0.59      0.62      0.60       201\n",
            "weighted avg       0.77      0.73      0.75       201\n",
            "\n"
          ],
          "name": "stdout"
        }
      ]
    },
    {
      "cell_type": "code",
      "metadata": {
        "id": "tke63dxdBlcY",
        "colab_type": "code",
        "colab": {
          "base_uri": "https://localhost:8080/",
          "height": 617
        },
        "outputId": "51a56558-a585-4a16-a6af-fc5d13a69296"
      },
      "source": [
        "!pip install pandas_ml\n",
        "from pandas_ml import ConfusionMatrix\n",
        "cm = ConfusionMatrix(actual, predicted)\n",
        "cm.print_stats()"
      ],
      "execution_count": 27,
      "outputs": [
        {
          "output_type": "stream",
          "text": [
            "Requirement already satisfied: pandas_ml in /usr/local/lib/python3.6/dist-packages (0.6.1)\n",
            "Requirement already satisfied: pandas>=0.19.0 in /usr/local/lib/python3.6/dist-packages (from pandas_ml) (0.24.2)\n",
            "Requirement already satisfied: enum34 in /usr/local/lib/python3.6/dist-packages (from pandas_ml) (1.1.6)\n",
            "Requirement already satisfied: pytz>=2011k in /usr/local/lib/python3.6/dist-packages (from pandas>=0.19.0->pandas_ml) (2018.9)\n",
            "Requirement already satisfied: python-dateutil>=2.5.0 in /usr/local/lib/python3.6/dist-packages (from pandas>=0.19.0->pandas_ml) (2.5.3)\n",
            "Requirement already satisfied: numpy>=1.12.0 in /usr/local/lib/python3.6/dist-packages (from pandas>=0.19.0->pandas_ml) (1.16.4)\n",
            "Requirement already satisfied: six>=1.5 in /usr/local/lib/python3.6/dist-packages (from python-dateutil>=2.5.0->pandas>=0.19.0->pandas_ml) (1.12.0)\n",
            "population: 201\n",
            "P: 36\n",
            "N: 165\n",
            "PositiveTest: 50\n",
            "NegativeTest: 151\n",
            "TP: 16\n",
            "TN: 131\n",
            "FP: 34\n",
            "FN: 20\n",
            "TPR: 0.4444444444444444\n",
            "TNR: 0.793939393939394\n",
            "PPV: 0.32\n",
            "NPV: 0.8675496688741722\n",
            "FPR: 0.20606060606060606\n",
            "FDR: 0.68\n",
            "FNR: 0.5555555555555556\n",
            "ACC: 0.7313432835820896\n",
            "F1_score: 0.37209302325581395\n",
            "MCC: 0.2114445789180774\n",
            "informedness: 0.23838383838383836\n",
            "markedness: 0.18754966887417224\n",
            "prevalence: 0.1791044776119403\n",
            "LRP: 2.156862745098039\n",
            "LRN: 0.6997455470737913\n",
            "DOR: 3.0823529411764703\n",
            "FOR: 0.13245033112582782\n"
          ],
          "name": "stdout"
        }
      ]
    }
  ]
}